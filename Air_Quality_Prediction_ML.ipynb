{
 "cells": [
  {
   "cell_type": "markdown",
   "metadata": {},
   "source": [
    "## **Introduction**\n",
    "\n",
    "##### Air pollution is a critical environmental issue, impacting health and ecosystems worldwide. This project focuses on analyzing and predicting air quality using a dataset collected from various monitoring stations in India. The data includes geographic details, pollutant levels (PM10, NH3, OZONE, etc.), and statistical measures such as minimum, maximum, and average pollutant concentrations.\n",
    "\n",
    "##### By leveraging machine learning techniques, the project aims to uncover pollution trends, identify high-risk areas, and provide accurate predictions to support effective decision-making. This work contributes to mitigating the adverse effects of pollution by enabling targeted interventions."
   ]
  },
  {
   "cell_type": "code",
   "execution_count": 82,
   "metadata": {},
   "outputs": [],
   "source": [
    "import pandas as pd\n",
    "import numpy as np"
   ]
  },
  {
   "cell_type": "markdown",
   "metadata": {},
   "source": [
    "##### Load the Dataset #####"
   ]
  },
  {
   "cell_type": "code",
   "execution_count": null,
   "metadata": {},
   "outputs": [
    {
     "data": {
      "text/html": [
       "<div>\n",
       "<style scoped>\n",
       "    .dataframe tbody tr th:only-of-type {\n",
       "        vertical-align: middle;\n",
       "    }\n",
       "\n",
       "    .dataframe tbody tr th {\n",
       "        vertical-align: top;\n",
       "    }\n",
       "\n",
       "    .dataframe thead th {\n",
       "        text-align: right;\n",
       "    }\n",
       "</style>\n",
       "<table border=\"1\" class=\"dataframe\">\n",
       "  <thead>\n",
       "    <tr style=\"text-align: right;\">\n",
       "      <th></th>\n",
       "      <th>country</th>\n",
       "      <th>state</th>\n",
       "      <th>city</th>\n",
       "      <th>station</th>\n",
       "      <th>last_update</th>\n",
       "      <th>latitude</th>\n",
       "      <th>longitude</th>\n",
       "      <th>pollutant_id</th>\n",
       "      <th>pollutant_min</th>\n",
       "      <th>pollutant_max</th>\n",
       "      <th>pollutant_avg</th>\n",
       "    </tr>\n",
       "  </thead>\n",
       "  <tbody>\n",
       "    <tr>\n",
       "      <th>0</th>\n",
       "      <td>India</td>\n",
       "      <td>Assam</td>\n",
       "      <td>Byrnihat</td>\n",
       "      <td>Central Academy for SFS, Byrnihat - PCBA</td>\n",
       "      <td>17-01-2025 18:00:00</td>\n",
       "      <td>26.071318</td>\n",
       "      <td>91.874880</td>\n",
       "      <td>PM10</td>\n",
       "      <td>75.0</td>\n",
       "      <td>252.0</td>\n",
       "      <td>177.0</td>\n",
       "    </tr>\n",
       "    <tr>\n",
       "      <th>1</th>\n",
       "      <td>India</td>\n",
       "      <td>Assam</td>\n",
       "      <td>Byrnihat</td>\n",
       "      <td>Central Academy for SFS, Byrnihat - PCBA</td>\n",
       "      <td>17-01-2025 18:00:00</td>\n",
       "      <td>26.071318</td>\n",
       "      <td>91.874880</td>\n",
       "      <td>NH3</td>\n",
       "      <td>1.0</td>\n",
       "      <td>5.0</td>\n",
       "      <td>3.0</td>\n",
       "    </tr>\n",
       "    <tr>\n",
       "      <th>2</th>\n",
       "      <td>India</td>\n",
       "      <td>Assam</td>\n",
       "      <td>Byrnihat</td>\n",
       "      <td>Central Academy for SFS, Byrnihat - PCBA</td>\n",
       "      <td>17-01-2025 18:00:00</td>\n",
       "      <td>26.071318</td>\n",
       "      <td>91.874880</td>\n",
       "      <td>OZONE</td>\n",
       "      <td>22.0</td>\n",
       "      <td>57.0</td>\n",
       "      <td>43.0</td>\n",
       "    </tr>\n",
       "    <tr>\n",
       "      <th>3</th>\n",
       "      <td>India</td>\n",
       "      <td>Assam</td>\n",
       "      <td>Guwahati</td>\n",
       "      <td>IITG, Guwahati - PCBA</td>\n",
       "      <td>17-01-2025 18:00:00</td>\n",
       "      <td>26.202864</td>\n",
       "      <td>91.700464</td>\n",
       "      <td>PM10</td>\n",
       "      <td>59.0</td>\n",
       "      <td>199.0</td>\n",
       "      <td>152.0</td>\n",
       "    </tr>\n",
       "    <tr>\n",
       "      <th>4</th>\n",
       "      <td>India</td>\n",
       "      <td>Assam</td>\n",
       "      <td>Guwahati</td>\n",
       "      <td>IITG, Guwahati - PCBA</td>\n",
       "      <td>17-01-2025 18:00:00</td>\n",
       "      <td>26.202864</td>\n",
       "      <td>91.700464</td>\n",
       "      <td>NH3</td>\n",
       "      <td>5.0</td>\n",
       "      <td>5.0</td>\n",
       "      <td>5.0</td>\n",
       "    </tr>\n",
       "  </tbody>\n",
       "</table>\n",
       "</div>"
      ],
      "text/plain": [
       "  country  state      city                                   station  \\\n",
       "0   India  Assam  Byrnihat  Central Academy for SFS, Byrnihat - PCBA   \n",
       "1   India  Assam  Byrnihat  Central Academy for SFS, Byrnihat - PCBA   \n",
       "2   India  Assam  Byrnihat  Central Academy for SFS, Byrnihat - PCBA   \n",
       "3   India  Assam  Guwahati                     IITG, Guwahati - PCBA   \n",
       "4   India  Assam  Guwahati                     IITG, Guwahati - PCBA   \n",
       "\n",
       "           last_update   latitude  longitude pollutant_id  pollutant_min  \\\n",
       "0  17-01-2025 18:00:00  26.071318  91.874880         PM10           75.0   \n",
       "1  17-01-2025 18:00:00  26.071318  91.874880          NH3            1.0   \n",
       "2  17-01-2025 18:00:00  26.071318  91.874880        OZONE           22.0   \n",
       "3  17-01-2025 18:00:00  26.202864  91.700464         PM10           59.0   \n",
       "4  17-01-2025 18:00:00  26.202864  91.700464          NH3            5.0   \n",
       "\n",
       "   pollutant_max  pollutant_avg  \n",
       "0          252.0          177.0  \n",
       "1            5.0            3.0  \n",
       "2           57.0           43.0  \n",
       "3          199.0          152.0  \n",
       "4            5.0            5.0  "
      ]
     },
     "execution_count": 83,
     "metadata": {},
     "output_type": "execute_result"
    }
   ],
   "source": [
    "df=pd.read_csv(r'C:\\Users\\tjais\\Downloads\\Air_Quality_Prediction_Using_ML-main\\Air_Quality_Prediction_Using_ML-main\\Pollutant_Radar.csv')\n",
    "df.head()"
   ]
  },
  {
   "cell_type": "code",
   "execution_count": 84,
   "metadata": {},
   "outputs": [
    {
     "data": {
      "text/plain": [
       "pandas.core.frame.DataFrame"
      ]
     },
     "execution_count": 84,
     "metadata": {},
     "output_type": "execute_result"
    }
   ],
   "source": [
    "type(df)"
   ]
  },
  {
   "cell_type": "code",
   "execution_count": 85,
   "metadata": {},
   "outputs": [
    {
     "data": {
      "text/html": [
       "<div>\n",
       "<style scoped>\n",
       "    .dataframe tbody tr th:only-of-type {\n",
       "        vertical-align: middle;\n",
       "    }\n",
       "\n",
       "    .dataframe tbody tr th {\n",
       "        vertical-align: top;\n",
       "    }\n",
       "\n",
       "    .dataframe thead th {\n",
       "        text-align: right;\n",
       "    }\n",
       "</style>\n",
       "<table border=\"1\" class=\"dataframe\">\n",
       "  <thead>\n",
       "    <tr style=\"text-align: right;\">\n",
       "      <th></th>\n",
       "      <th>latitude</th>\n",
       "      <th>longitude</th>\n",
       "      <th>pollutant_min</th>\n",
       "      <th>pollutant_max</th>\n",
       "      <th>pollutant_avg</th>\n",
       "    </tr>\n",
       "  </thead>\n",
       "  <tbody>\n",
       "    <tr>\n",
       "      <th>count</th>\n",
       "      <td>1358.000000</td>\n",
       "      <td>1358.000000</td>\n",
       "      <td>1291.000000</td>\n",
       "      <td>1291.000000</td>\n",
       "      <td>1291.000000</td>\n",
       "    </tr>\n",
       "    <tr>\n",
       "      <th>mean</th>\n",
       "      <td>22.260818</td>\n",
       "      <td>78.817265</td>\n",
       "      <td>33.151820</td>\n",
       "      <td>88.290473</td>\n",
       "      <td>56.346243</td>\n",
       "    </tr>\n",
       "    <tr>\n",
       "      <th>std</th>\n",
       "      <td>5.489397</td>\n",
       "      <td>4.942490</td>\n",
       "      <td>39.877859</td>\n",
       "      <td>98.716500</td>\n",
       "      <td>61.487052</td>\n",
       "    </tr>\n",
       "    <tr>\n",
       "      <th>min</th>\n",
       "      <td>8.514909</td>\n",
       "      <td>70.909168</td>\n",
       "      <td>1.000000</td>\n",
       "      <td>1.000000</td>\n",
       "      <td>1.000000</td>\n",
       "    </tr>\n",
       "    <tr>\n",
       "      <th>25%</th>\n",
       "      <td>18.976700</td>\n",
       "      <td>75.675238</td>\n",
       "      <td>6.000000</td>\n",
       "      <td>17.000000</td>\n",
       "      <td>12.000000</td>\n",
       "    </tr>\n",
       "    <tr>\n",
       "      <th>50%</th>\n",
       "      <td>23.041137</td>\n",
       "      <td>77.482194</td>\n",
       "      <td>18.000000</td>\n",
       "      <td>54.000000</td>\n",
       "      <td>35.000000</td>\n",
       "    </tr>\n",
       "    <tr>\n",
       "      <th>75%</th>\n",
       "      <td>26.766433</td>\n",
       "      <td>80.948222</td>\n",
       "      <td>47.000000</td>\n",
       "      <td>120.000000</td>\n",
       "      <td>81.000000</td>\n",
       "    </tr>\n",
       "    <tr>\n",
       "      <th>max</th>\n",
       "      <td>34.066206</td>\n",
       "      <td>94.636574</td>\n",
       "      <td>293.000000</td>\n",
       "      <td>500.000000</td>\n",
       "      <td>378.000000</td>\n",
       "    </tr>\n",
       "  </tbody>\n",
       "</table>\n",
       "</div>"
      ],
      "text/plain": [
       "          latitude    longitude  pollutant_min  pollutant_max  pollutant_avg\n",
       "count  1358.000000  1358.000000    1291.000000    1291.000000    1291.000000\n",
       "mean     22.260818    78.817265      33.151820      88.290473      56.346243\n",
       "std       5.489397     4.942490      39.877859      98.716500      61.487052\n",
       "min       8.514909    70.909168       1.000000       1.000000       1.000000\n",
       "25%      18.976700    75.675238       6.000000      17.000000      12.000000\n",
       "50%      23.041137    77.482194      18.000000      54.000000      35.000000\n",
       "75%      26.766433    80.948222      47.000000     120.000000      81.000000\n",
       "max      34.066206    94.636574     293.000000     500.000000     378.000000"
      ]
     },
     "execution_count": 85,
     "metadata": {},
     "output_type": "execute_result"
    }
   ],
   "source": [
    "df.describe()"
   ]
  },
  {
   "cell_type": "code",
   "execution_count": 86,
   "metadata": {},
   "outputs": [
    {
     "data": {
      "text/plain": [
       "0       False\n",
       "1       False\n",
       "2       False\n",
       "3       False\n",
       "4       False\n",
       "        ...  \n",
       "1353    False\n",
       "1354    False\n",
       "1355    False\n",
       "1356    False\n",
       "1357    False\n",
       "Length: 1358, dtype: bool"
      ]
     },
     "execution_count": 86,
     "metadata": {},
     "output_type": "execute_result"
    }
   ],
   "source": [
    "df.duplicated()"
   ]
  },
  {
   "cell_type": "markdown",
   "metadata": {},
   "source": [
    "##### Identify Missing Values #####"
   ]
  },
  {
   "cell_type": "code",
   "execution_count": 87,
   "metadata": {},
   "outputs": [
    {
     "data": {
      "text/plain": [
       "country           0\n",
       "state             0\n",
       "city              0\n",
       "station           0\n",
       "last_update       0\n",
       "latitude          0\n",
       "longitude         0\n",
       "pollutant_id      0\n",
       "pollutant_min    67\n",
       "pollutant_max    67\n",
       "pollutant_avg    67\n",
       "dtype: int64"
      ]
     },
     "execution_count": 87,
     "metadata": {},
     "output_type": "execute_result"
    }
   ],
   "source": [
    "df.isnull().sum()"
   ]
  },
  {
   "cell_type": "code",
   "execution_count": 88,
   "metadata": {},
   "outputs": [
    {
     "name": "stdout",
     "output_type": "stream",
     "text": [
      "<class 'pandas.core.frame.DataFrame'>\n",
      "RangeIndex: 1358 entries, 0 to 1357\n",
      "Data columns (total 11 columns):\n",
      " #   Column         Non-Null Count  Dtype  \n",
      "---  ------         --------------  -----  \n",
      " 0   country        1358 non-null   object \n",
      " 1   state          1358 non-null   object \n",
      " 2   city           1358 non-null   object \n",
      " 3   station        1358 non-null   object \n",
      " 4   last_update    1358 non-null   object \n",
      " 5   latitude       1358 non-null   float64\n",
      " 6   longitude      1358 non-null   float64\n",
      " 7   pollutant_id   1358 non-null   object \n",
      " 8   pollutant_min  1291 non-null   float64\n",
      " 9   pollutant_max  1291 non-null   float64\n",
      " 10  pollutant_avg  1291 non-null   float64\n",
      "dtypes: float64(5), object(6)\n",
      "memory usage: 116.8+ KB\n"
     ]
    }
   ],
   "source": [
    "df.info()"
   ]
  },
  {
   "cell_type": "markdown",
   "metadata": {},
   "source": [
    "##### Handle Missing Values #####"
   ]
  },
  {
   "cell_type": "code",
   "execution_count": 89,
   "metadata": {},
   "outputs": [],
   "source": [
    "df['pollutant_min'].fillna(df['pollutant_min'].mean(),inplace=True)\n",
    "df['pollutant_max'].fillna(df['pollutant_max'].mean(),inplace=True)\n",
    "df['pollutant_avg'].fillna(df['pollutant_avg'].mean(),inplace=True)"
   ]
  },
  {
   "cell_type": "code",
   "execution_count": 90,
   "metadata": {},
   "outputs": [
    {
     "data": {
      "text/plain": [
       "country          0\n",
       "state            0\n",
       "city             0\n",
       "station          0\n",
       "last_update      0\n",
       "latitude         0\n",
       "longitude        0\n",
       "pollutant_id     0\n",
       "pollutant_min    0\n",
       "pollutant_max    0\n",
       "pollutant_avg    0\n",
       "dtype: int64"
      ]
     },
     "execution_count": 90,
     "metadata": {},
     "output_type": "execute_result"
    }
   ],
   "source": [
    "df.isnull().sum()"
   ]
  },
  {
   "cell_type": "code",
   "execution_count": 91,
   "metadata": {},
   "outputs": [],
   "source": [
    "# Convert Strings to Datetime\n",
    "df['last_update'] = pd.to_datetime(df['last_update'])"
   ]
  },
  {
   "cell_type": "code",
   "execution_count": 92,
   "metadata": {},
   "outputs": [
    {
     "data": {
      "text/html": [
       "<div>\n",
       "<style scoped>\n",
       "    .dataframe tbody tr th:only-of-type {\n",
       "        vertical-align: middle;\n",
       "    }\n",
       "\n",
       "    .dataframe tbody tr th {\n",
       "        vertical-align: top;\n",
       "    }\n",
       "\n",
       "    .dataframe thead th {\n",
       "        text-align: right;\n",
       "    }\n",
       "</style>\n",
       "<table border=\"1\" class=\"dataframe\">\n",
       "  <thead>\n",
       "    <tr style=\"text-align: right;\">\n",
       "      <th></th>\n",
       "      <th>country</th>\n",
       "      <th>state</th>\n",
       "      <th>city</th>\n",
       "      <th>station</th>\n",
       "      <th>last_update</th>\n",
       "      <th>latitude</th>\n",
       "      <th>longitude</th>\n",
       "      <th>pollutant_id</th>\n",
       "      <th>pollutant_min</th>\n",
       "      <th>pollutant_max</th>\n",
       "      <th>pollutant_avg</th>\n",
       "    </tr>\n",
       "  </thead>\n",
       "  <tbody>\n",
       "    <tr>\n",
       "      <th>0</th>\n",
       "      <td>India</td>\n",
       "      <td>Assam</td>\n",
       "      <td>Byrnihat</td>\n",
       "      <td>Central Academy for SFS, Byrnihat - PCBA</td>\n",
       "      <td>2025-01-17 18:00:00</td>\n",
       "      <td>26.071318</td>\n",
       "      <td>91.874880</td>\n",
       "      <td>PM10</td>\n",
       "      <td>75.0</td>\n",
       "      <td>252.0</td>\n",
       "      <td>177.0</td>\n",
       "    </tr>\n",
       "    <tr>\n",
       "      <th>1</th>\n",
       "      <td>India</td>\n",
       "      <td>Assam</td>\n",
       "      <td>Byrnihat</td>\n",
       "      <td>Central Academy for SFS, Byrnihat - PCBA</td>\n",
       "      <td>2025-01-17 18:00:00</td>\n",
       "      <td>26.071318</td>\n",
       "      <td>91.874880</td>\n",
       "      <td>NH3</td>\n",
       "      <td>1.0</td>\n",
       "      <td>5.0</td>\n",
       "      <td>3.0</td>\n",
       "    </tr>\n",
       "    <tr>\n",
       "      <th>2</th>\n",
       "      <td>India</td>\n",
       "      <td>Assam</td>\n",
       "      <td>Byrnihat</td>\n",
       "      <td>Central Academy for SFS, Byrnihat - PCBA</td>\n",
       "      <td>2025-01-17 18:00:00</td>\n",
       "      <td>26.071318</td>\n",
       "      <td>91.874880</td>\n",
       "      <td>OZONE</td>\n",
       "      <td>22.0</td>\n",
       "      <td>57.0</td>\n",
       "      <td>43.0</td>\n",
       "    </tr>\n",
       "    <tr>\n",
       "      <th>3</th>\n",
       "      <td>India</td>\n",
       "      <td>Assam</td>\n",
       "      <td>Guwahati</td>\n",
       "      <td>IITG, Guwahati - PCBA</td>\n",
       "      <td>2025-01-17 18:00:00</td>\n",
       "      <td>26.202864</td>\n",
       "      <td>91.700464</td>\n",
       "      <td>PM10</td>\n",
       "      <td>59.0</td>\n",
       "      <td>199.0</td>\n",
       "      <td>152.0</td>\n",
       "    </tr>\n",
       "    <tr>\n",
       "      <th>4</th>\n",
       "      <td>India</td>\n",
       "      <td>Assam</td>\n",
       "      <td>Guwahati</td>\n",
       "      <td>IITG, Guwahati - PCBA</td>\n",
       "      <td>2025-01-17 18:00:00</td>\n",
       "      <td>26.202864</td>\n",
       "      <td>91.700464</td>\n",
       "      <td>NH3</td>\n",
       "      <td>5.0</td>\n",
       "      <td>5.0</td>\n",
       "      <td>5.0</td>\n",
       "    </tr>\n",
       "  </tbody>\n",
       "</table>\n",
       "</div>"
      ],
      "text/plain": [
       "  country  state      city                                   station  \\\n",
       "0   India  Assam  Byrnihat  Central Academy for SFS, Byrnihat - PCBA   \n",
       "1   India  Assam  Byrnihat  Central Academy for SFS, Byrnihat - PCBA   \n",
       "2   India  Assam  Byrnihat  Central Academy for SFS, Byrnihat - PCBA   \n",
       "3   India  Assam  Guwahati                     IITG, Guwahati - PCBA   \n",
       "4   India  Assam  Guwahati                     IITG, Guwahati - PCBA   \n",
       "\n",
       "          last_update   latitude  longitude pollutant_id  pollutant_min  \\\n",
       "0 2025-01-17 18:00:00  26.071318  91.874880         PM10           75.0   \n",
       "1 2025-01-17 18:00:00  26.071318  91.874880          NH3            1.0   \n",
       "2 2025-01-17 18:00:00  26.071318  91.874880        OZONE           22.0   \n",
       "3 2025-01-17 18:00:00  26.202864  91.700464         PM10           59.0   \n",
       "4 2025-01-17 18:00:00  26.202864  91.700464          NH3            5.0   \n",
       "\n",
       "   pollutant_max  pollutant_avg  \n",
       "0          252.0          177.0  \n",
       "1            5.0            3.0  \n",
       "2           57.0           43.0  \n",
       "3          199.0          152.0  \n",
       "4            5.0            5.0  "
      ]
     },
     "execution_count": 92,
     "metadata": {},
     "output_type": "execute_result"
    }
   ],
   "source": [
    "df.head()"
   ]
  },
  {
   "cell_type": "code",
   "execution_count": 93,
   "metadata": {},
   "outputs": [],
   "source": [
    "df1=df"
   ]
  },
  {
   "cell_type": "code",
   "execution_count": 94,
   "metadata": {},
   "outputs": [
    {
     "data": {
      "text/html": [
       "<div>\n",
       "<style scoped>\n",
       "    .dataframe tbody tr th:only-of-type {\n",
       "        vertical-align: middle;\n",
       "    }\n",
       "\n",
       "    .dataframe tbody tr th {\n",
       "        vertical-align: top;\n",
       "    }\n",
       "\n",
       "    .dataframe thead th {\n",
       "        text-align: right;\n",
       "    }\n",
       "</style>\n",
       "<table border=\"1\" class=\"dataframe\">\n",
       "  <thead>\n",
       "    <tr style=\"text-align: right;\">\n",
       "      <th></th>\n",
       "      <th>country</th>\n",
       "      <th>state</th>\n",
       "      <th>city</th>\n",
       "      <th>station</th>\n",
       "      <th>last_update</th>\n",
       "      <th>latitude</th>\n",
       "      <th>longitude</th>\n",
       "      <th>pollutant_id</th>\n",
       "      <th>pollutant_min</th>\n",
       "      <th>pollutant_max</th>\n",
       "      <th>pollutant_avg</th>\n",
       "    </tr>\n",
       "  </thead>\n",
       "  <tbody>\n",
       "    <tr>\n",
       "      <th>0</th>\n",
       "      <td>India</td>\n",
       "      <td>Assam</td>\n",
       "      <td>Byrnihat</td>\n",
       "      <td>Central Academy for SFS, Byrnihat - PCBA</td>\n",
       "      <td>2025-01-17 18:00:00</td>\n",
       "      <td>26.071318</td>\n",
       "      <td>91.874880</td>\n",
       "      <td>PM10</td>\n",
       "      <td>75.0</td>\n",
       "      <td>252.0</td>\n",
       "      <td>177.0</td>\n",
       "    </tr>\n",
       "    <tr>\n",
       "      <th>1</th>\n",
       "      <td>India</td>\n",
       "      <td>Assam</td>\n",
       "      <td>Byrnihat</td>\n",
       "      <td>Central Academy for SFS, Byrnihat - PCBA</td>\n",
       "      <td>2025-01-17 18:00:00</td>\n",
       "      <td>26.071318</td>\n",
       "      <td>91.874880</td>\n",
       "      <td>NH3</td>\n",
       "      <td>1.0</td>\n",
       "      <td>5.0</td>\n",
       "      <td>3.0</td>\n",
       "    </tr>\n",
       "    <tr>\n",
       "      <th>2</th>\n",
       "      <td>India</td>\n",
       "      <td>Assam</td>\n",
       "      <td>Byrnihat</td>\n",
       "      <td>Central Academy for SFS, Byrnihat - PCBA</td>\n",
       "      <td>2025-01-17 18:00:00</td>\n",
       "      <td>26.071318</td>\n",
       "      <td>91.874880</td>\n",
       "      <td>OZONE</td>\n",
       "      <td>22.0</td>\n",
       "      <td>57.0</td>\n",
       "      <td>43.0</td>\n",
       "    </tr>\n",
       "    <tr>\n",
       "      <th>3</th>\n",
       "      <td>India</td>\n",
       "      <td>Assam</td>\n",
       "      <td>Guwahati</td>\n",
       "      <td>IITG, Guwahati - PCBA</td>\n",
       "      <td>2025-01-17 18:00:00</td>\n",
       "      <td>26.202864</td>\n",
       "      <td>91.700464</td>\n",
       "      <td>PM10</td>\n",
       "      <td>59.0</td>\n",
       "      <td>199.0</td>\n",
       "      <td>152.0</td>\n",
       "    </tr>\n",
       "    <tr>\n",
       "      <th>4</th>\n",
       "      <td>India</td>\n",
       "      <td>Assam</td>\n",
       "      <td>Guwahati</td>\n",
       "      <td>IITG, Guwahati - PCBA</td>\n",
       "      <td>2025-01-17 18:00:00</td>\n",
       "      <td>26.202864</td>\n",
       "      <td>91.700464</td>\n",
       "      <td>NH3</td>\n",
       "      <td>5.0</td>\n",
       "      <td>5.0</td>\n",
       "      <td>5.0</td>\n",
       "    </tr>\n",
       "  </tbody>\n",
       "</table>\n",
       "</div>"
      ],
      "text/plain": [
       "  country  state      city                                   station  \\\n",
       "0   India  Assam  Byrnihat  Central Academy for SFS, Byrnihat - PCBA   \n",
       "1   India  Assam  Byrnihat  Central Academy for SFS, Byrnihat - PCBA   \n",
       "2   India  Assam  Byrnihat  Central Academy for SFS, Byrnihat - PCBA   \n",
       "3   India  Assam  Guwahati                     IITG, Guwahati - PCBA   \n",
       "4   India  Assam  Guwahati                     IITG, Guwahati - PCBA   \n",
       "\n",
       "          last_update   latitude  longitude pollutant_id  pollutant_min  \\\n",
       "0 2025-01-17 18:00:00  26.071318  91.874880         PM10           75.0   \n",
       "1 2025-01-17 18:00:00  26.071318  91.874880          NH3            1.0   \n",
       "2 2025-01-17 18:00:00  26.071318  91.874880        OZONE           22.0   \n",
       "3 2025-01-17 18:00:00  26.202864  91.700464         PM10           59.0   \n",
       "4 2025-01-17 18:00:00  26.202864  91.700464          NH3            5.0   \n",
       "\n",
       "   pollutant_max  pollutant_avg  \n",
       "0          252.0          177.0  \n",
       "1            5.0            3.0  \n",
       "2           57.0           43.0  \n",
       "3          199.0          152.0  \n",
       "4            5.0            5.0  "
      ]
     },
     "execution_count": 94,
     "metadata": {},
     "output_type": "execute_result"
    }
   ],
   "source": [
    "df1.head()"
   ]
  },
  {
   "cell_type": "code",
   "execution_count": 95,
   "metadata": {},
   "outputs": [],
   "source": [
    "from sklearn.model_selection import train_test_split\n",
    "from sklearn.preprocessing import LabelEncoder"
   ]
  },
  {
   "cell_type": "code",
   "execution_count": 96,
   "metadata": {},
   "outputs": [],
   "source": [
    "# Drop rows with missing target values \n",
    "data_cleaned = df1.dropna(subset=[\"pollutant_avg\"]).copy()"
   ]
  },
  {
   "cell_type": "code",
   "execution_count": 97,
   "metadata": {},
   "outputs": [],
   "source": [
    "# Categorize 'pollutant_avg' into classes (Low, Moderate, High)\n",
    "# Using arbitrary thresholds for demonstration \n",
    "bins = [0, 50, 100, float('inf')]\n",
    "labels = [\"Low\", \"Moderate\", \"High\"]\n",
    "data_cleaned[\"pollutant_class\"] = pd.cut(data_cleaned[\"pollutant_avg\"], bins=bins, labels=labels)"
   ]
  },
  {
   "cell_type": "code",
   "execution_count": 98,
   "metadata": {},
   "outputs": [],
   "source": [
    "# Encode categorical features\n",
    "label_encoders = {}\n",
    "categorical_columns = [\"country\", \"state\", \"city\", \"station\", \"pollutant_id\"]\n",
    "\n",
    "for col in categorical_columns:\n",
    "    le = LabelEncoder()\n",
    "    data_cleaned[col] = le.fit_transform(data_cleaned[col])\n",
    "    label_encoders[col] = le"
   ]
  },
  {
   "cell_type": "code",
   "execution_count": 99,
   "metadata": {},
   "outputs": [],
   "source": [
    "# Drop unnecessary columns\n",
    "data_preprocessed = data_cleaned.drop(columns=[\"last_update\", \"pollutant_min\", \"pollutant_max\", \"pollutant_avg\"])"
   ]
  },
  {
   "cell_type": "markdown",
   "metadata": {},
   "source": [
    "##### Split Data into Features (X) and Target (y) #####"
   ]
  },
  {
   "cell_type": "code",
   "execution_count": 100,
   "metadata": {},
   "outputs": [],
   "source": [
    "X = data_preprocessed.drop(columns=[\"pollutant_class\"])\n",
    "y = data_preprocessed[\"pollutant_class\"]"
   ]
  },
  {
   "cell_type": "markdown",
   "metadata": {},
   "source": [
    "##### Split into Training and Testing Sets"
   ]
  },
  {
   "cell_type": "code",
   "execution_count": 101,
   "metadata": {},
   "outputs": [
    {
     "data": {
      "text/plain": [
       "((1086, 7),\n",
       " (272, 7),\n",
       " Low         627\n",
       " Moderate    255\n",
       " High        204\n",
       " Name: pollutant_class, dtype: int64,\n",
       " Low         167\n",
       " Moderate     63\n",
       " High         42\n",
       " Name: pollutant_class, dtype: int64)"
      ]
     },
     "execution_count": 101,
     "metadata": {},
     "output_type": "execute_result"
    }
   ],
   "source": [
    "X_train, X_test, y_train, y_test = train_test_split(X, y, test_size=0.2, random_state=42)\n",
    "\n",
    "X_train.shape, X_test.shape, y_train.value_counts(), y_test.value_counts()\n"
   ]
  },
  {
   "cell_type": "markdown",
   "metadata": {},
   "source": [
    "## **KNN**"
   ]
  },
  {
   "cell_type": "code",
   "execution_count": 102,
   "metadata": {},
   "outputs": [],
   "source": [
    "from sklearn import metrics\n",
    "from sklearn.neighbors import KNeighborsClassifier\n",
    "from sklearn.metrics import classification_report"
   ]
  },
  {
   "cell_type": "code",
   "execution_count": 103,
   "metadata": {},
   "outputs": [
    {
     "data": {
      "text/html": [
       "<style>#sk-container-id-22 {color: black;background-color: white;}#sk-container-id-22 pre{padding: 0;}#sk-container-id-22 div.sk-toggleable {background-color: white;}#sk-container-id-22 label.sk-toggleable__label {cursor: pointer;display: block;width: 100%;margin-bottom: 0;padding: 0.3em;box-sizing: border-box;text-align: center;}#sk-container-id-22 label.sk-toggleable__label-arrow:before {content: \"▸\";float: left;margin-right: 0.25em;color: #696969;}#sk-container-id-22 label.sk-toggleable__label-arrow:hover:before {color: black;}#sk-container-id-22 div.sk-estimator:hover label.sk-toggleable__label-arrow:before {color: black;}#sk-container-id-22 div.sk-toggleable__content {max-height: 0;max-width: 0;overflow: hidden;text-align: left;background-color: #f0f8ff;}#sk-container-id-22 div.sk-toggleable__content pre {margin: 0.2em;color: black;border-radius: 0.25em;background-color: #f0f8ff;}#sk-container-id-22 input.sk-toggleable__control:checked~div.sk-toggleable__content {max-height: 200px;max-width: 100%;overflow: auto;}#sk-container-id-22 input.sk-toggleable__control:checked~label.sk-toggleable__label-arrow:before {content: \"▾\";}#sk-container-id-22 div.sk-estimator input.sk-toggleable__control:checked~label.sk-toggleable__label {background-color: #d4ebff;}#sk-container-id-22 div.sk-label input.sk-toggleable__control:checked~label.sk-toggleable__label {background-color: #d4ebff;}#sk-container-id-22 input.sk-hidden--visually {border: 0;clip: rect(1px 1px 1px 1px);clip: rect(1px, 1px, 1px, 1px);height: 1px;margin: -1px;overflow: hidden;padding: 0;position: absolute;width: 1px;}#sk-container-id-22 div.sk-estimator {font-family: monospace;background-color: #f0f8ff;border: 1px dotted black;border-radius: 0.25em;box-sizing: border-box;margin-bottom: 0.5em;}#sk-container-id-22 div.sk-estimator:hover {background-color: #d4ebff;}#sk-container-id-22 div.sk-parallel-item::after {content: \"\";width: 100%;border-bottom: 1px solid gray;flex-grow: 1;}#sk-container-id-22 div.sk-label:hover label.sk-toggleable__label {background-color: #d4ebff;}#sk-container-id-22 div.sk-serial::before {content: \"\";position: absolute;border-left: 1px solid gray;box-sizing: border-box;top: 0;bottom: 0;left: 50%;z-index: 0;}#sk-container-id-22 div.sk-serial {display: flex;flex-direction: column;align-items: center;background-color: white;padding-right: 0.2em;padding-left: 0.2em;position: relative;}#sk-container-id-22 div.sk-item {position: relative;z-index: 1;}#sk-container-id-22 div.sk-parallel {display: flex;align-items: stretch;justify-content: center;background-color: white;position: relative;}#sk-container-id-22 div.sk-item::before, #sk-container-id-22 div.sk-parallel-item::before {content: \"\";position: absolute;border-left: 1px solid gray;box-sizing: border-box;top: 0;bottom: 0;left: 50%;z-index: -1;}#sk-container-id-22 div.sk-parallel-item {display: flex;flex-direction: column;z-index: 1;position: relative;background-color: white;}#sk-container-id-22 div.sk-parallel-item:first-child::after {align-self: flex-end;width: 50%;}#sk-container-id-22 div.sk-parallel-item:last-child::after {align-self: flex-start;width: 50%;}#sk-container-id-22 div.sk-parallel-item:only-child::after {width: 0;}#sk-container-id-22 div.sk-dashed-wrapped {border: 1px dashed gray;margin: 0 0.4em 0.5em 0.4em;box-sizing: border-box;padding-bottom: 0.4em;background-color: white;}#sk-container-id-22 div.sk-label label {font-family: monospace;font-weight: bold;display: inline-block;line-height: 1.2em;}#sk-container-id-22 div.sk-label-container {text-align: center;}#sk-container-id-22 div.sk-container {/* jupyter's `normalize.less` sets `[hidden] { display: none; }` but bootstrap.min.css set `[hidden] { display: none !important; }` so we also need the `!important` here to be able to override the default hidden behavior on the sphinx rendered scikit-learn.org. See: https://github.com/scikit-learn/scikit-learn/issues/21755 */display: inline-block !important;position: relative;}#sk-container-id-22 div.sk-text-repr-fallback {display: none;}</style><div id=\"sk-container-id-22\" class=\"sk-top-container\"><div class=\"sk-text-repr-fallback\"><pre>KNeighborsClassifier(n_neighbors=20)</pre><b>In a Jupyter environment, please rerun this cell to show the HTML representation or trust the notebook. <br />On GitHub, the HTML representation is unable to render, please try loading this page with nbviewer.org.</b></div><div class=\"sk-container\" hidden><div class=\"sk-item\"><div class=\"sk-estimator sk-toggleable\"><input class=\"sk-toggleable__control sk-hidden--visually\" id=\"sk-estimator-id-22\" type=\"checkbox\" checked><label for=\"sk-estimator-id-22\" class=\"sk-toggleable__label sk-toggleable__label-arrow\">KNeighborsClassifier</label><div class=\"sk-toggleable__content\"><pre>KNeighborsClassifier(n_neighbors=20)</pre></div></div></div></div></div>"
      ],
      "text/plain": [
       "KNeighborsClassifier(n_neighbors=20)"
      ]
     },
     "execution_count": 103,
     "metadata": {},
     "output_type": "execute_result"
    }
   ],
   "source": [
    "knn_class=KNeighborsClassifier(n_neighbors=20, metric='minkowski', p=2 )\n",
    "knn_class.fit(X_train,y_train)"
   ]
  },
  {
   "cell_type": "code",
   "execution_count": 104,
   "metadata": {},
   "outputs": [
    {
     "name": "stdout",
     "output_type": "stream",
     "text": [
      "Accuracy (KNN):  61.4 %\n"
     ]
    }
   ],
   "source": [
    "y_pred_knn=knn_class.predict(X_test)\n",
    "Accuracy_Knn=round((metrics.accuracy_score(y_test, y_pred_knn)*100),2)\n",
    "print('Accuracy (KNN): ',Accuracy_Knn,\"%\")"
   ]
  },
  {
   "cell_type": "markdown",
   "metadata": {},
   "source": [
    "##### Classification Report"
   ]
  },
  {
   "cell_type": "code",
   "execution_count": 105,
   "metadata": {},
   "outputs": [
    {
     "name": "stdout",
     "output_type": "stream",
     "text": [
      "                precision    recall  f1-score   support\n",
      "\n",
      "    class High       0.29      0.05      0.08        42\n",
      "     class Low       0.63      0.96      0.76       167\n",
      "class Moderate       0.50      0.06      0.11        63\n",
      "\n",
      "      accuracy                           0.61       272\n",
      "     macro avg       0.47      0.36      0.32       272\n",
      "  weighted avg       0.54      0.61      0.50       272\n",
      "\n"
     ]
    }
   ],
   "source": [
    "unique_classes = np.unique(np.concatenate((y_test, y_pred_knn)))\n",
    "\n",
    "print(classification_report(y_test, y_pred_knn, target_names=[f'class {i}' for i in unique_classes]))"
   ]
  }
 ],
 "metadata": {
  "kernelspec": {
   "display_name": "base",
   "language": "python",
   "name": "python3"
  },
  "language_info": {
   "codemirror_mode": {
    "name": "ipython",
    "version": 3
   },
   "file_extension": ".py",
   "mimetype": "text/x-python",
   "name": "python",
   "nbconvert_exporter": "python",
   "pygments_lexer": "ipython3",
   "version": "3.12.7"
  }
 },
 "nbformat": 4,
 "nbformat_minor": 2
}
